{
 "cells": [
  {
   "attachments": {},
   "cell_type": "markdown",
   "metadata": {},
   "source": [
    "# Planeti in lune v fantazijskem svetu Vojne zvezd (Star Wars)"
   ]
  },
  {
   "cell_type": "code",
   "execution_count": 74,
   "metadata": {},
   "outputs": [],
   "source": [
    "from bs4 import BeautifulSoup\n",
    "import requests\n",
    "from googletrans import Translator\n",
    "import csv"
   ]
  },
  {
   "attachments": {},
   "cell_type": "markdown",
   "metadata": {},
   "source": [
    "### 1. Pridobivanje podatkov\n"
   ]
  },
  {
   "attachments": {},
   "cell_type": "markdown",
   "metadata": {},
   "source": [
    "Najprej definiramo spremenljivke, ki jih bomo potrebovali tekom naše ekstrakcije podatkov:"
   ]
  },
  {
   "cell_type": "code",
   "execution_count": 4,
   "metadata": {},
   "outputs": [],
   "source": [
    "# Povezava do spletne strani\n",
    "planeti_lune_url = 'https://en.wikipedia.org/wiki/List_of_Star_Wars_planets_and_moons'\n",
    "\n",
    "# Html izbrane strani\n",
    "planeti_lune_html = 'Planeti_in_lune.html'\n",
    "\n",
    "# Mapa z izlučenimi podatki\n",
    "podatki_izluščeni = 'podatki-izluščeni'\n"
   ]
  },
  {
   "attachments": {},
   "cell_type": "markdown",
   "metadata": {},
   "source": [
    "Nato pa še funkcije:"
   ]
  },
  {
   "cell_type": "code",
   "execution_count": 62,
   "metadata": {},
   "outputs": [],
   "source": [
    "def prevedi_v_slovenščino(besedilo):\n",
    "    prevajalnik = Translator()\n",
    "    prevod = prevajalnik.translate(besedilo, src='en', dest='sl') # Iz angleščine v slovenščino\n",
    "    return prevod.text"
   ]
  },
  {
   "cell_type": "code",
   "execution_count": 63,
   "metadata": {},
   "outputs": [],
   "source": [
    "def pridobi_podatke(planeti_lune_url):\n",
    "    try:\n",
    "        response = requests.get(planeti_lune_url)\n",
    "        if response.status_code == 200: # 200 pomeni, da je vse okej\n",
    "            return response.text\n",
    "        else: \n",
    "            raise ValueError(f'Napačna koda: {response.status_code}')\n",
    "    except Exception: # Napaka\n",
    "        print(f'Nalaganje strani {planeti_lune_url} ni uspelo.')"
   ]
  },
  {
   "attachments": {},
   "cell_type": "markdown",
   "metadata": {},
   "source": [
    "### 2. Luščenje podatkov"
   ]
  },
  {
   "cell_type": "code",
   "execution_count": 75,
   "metadata": {},
   "outputs": [],
   "source": [
    "def podatki_o_planetih_in_lunah(planeti_lune_url):\n",
    "\n",
    "    podatki = requests.get(planeti_lune_url)\n",
    "    html_content = podatki.content\n",
    "    juhica = BeautifulSoup(html_content, 'html.parser') # Razčlenimo\n",
    "    tabela = juhica.find('table', class_='wikitable sortable')  # Tabela v Wikipediji\n",
    "\n",
    "    podatki_wiki = []  # V ta slovar bomo zapisali izluščene podatke\n",
    "\n",
    "    # Vrstice\n",
    "    vrstice = tabela.find_all('tr')\n",
    "    for vrstica in vrstice[1:]:  # Izpustimo glavo\n",
    "        okvirček = vrstica.find_all('td')\n",
    "        if len(okvirček) >= 5:  \n",
    "            ime = okvirček[0].get_text(strip=True) # Ime planeta oz. lune\n",
    "            prvič = okvirček[1].get_text(strip=True)\n",
    "            leto = okvirček[2].get_text(strip=True)\n",
    "            description = okvirček[4].get_text(strip=True)\n",
    "\n",
    "            ali_je_planet = \"planet\" in description.lower()  # Preveri, če se koren planet pojavi v opisu\n",
    "            vrsta = \"planet\" if ali_je_planet else \"luna\"  # Če se ne pojavi, izpiše luna\n",
    "\n",
    "            prevedeno = prevedi_v_slovenščino(description) # Prevod v slovenščino\n",
    "\n",
    "            podatki_wiki.append({   \n",
    "                'Ime': ime,\n",
    "                'Vrsta': vrsta,\n",
    "                'Prva upodobitev': prvič,\n",
    "                'Leto prve upodobitve': leto,\n",
    "                'Kratek opis': prevedeno,     \n",
    "            })\n",
    "        \n",
    "    return podatki_wiki  "
   ]
  },
  {
   "cell_type": "code",
   "execution_count": 79,
   "metadata": {},
   "outputs": [
    {
     "name": "stdout",
     "output_type": "stream",
     "text": [
      "{'Ime': 'Abafar', 'Vrsta': 'planet', 'Prva upodobitev': 'Star Wars: The Clone Wars', 'Leto prve upodobitve': '2012', 'Kratek opis': 'Puščavski planet, ki se nahaja v zunanjem robu s popolnoma belo površino.Planet, znan kot Praznina, je komaj poseljen, vendar je dom ogromnim količinam ridonija, redkega in hlapljivega goriva.'}\n",
      "{'Ime': 'Agamar', 'Vrsta': 'planet', 'Prva upodobitev': 'Star Wars Legends:The Farlander Papers', 'Leto prve upodobitve': '1993', 'Kratek opis': 'Pust, skalnat planet v zunanjem robu.Mesto še vedno aktivnega rezervata separatističnih droidov, ki so postali znani po tem, da so preživeli vojne klonov.'}\n",
      "{'Ime': 'Ahch-To', 'Vrsta': 'planet', 'Prva upodobitev': 'The Force Awakens', 'Leto prve upodobitve': '2015', 'Kratek opis': 'Velik oceanski planet, na katerem se že več let skriva Luke Skywalker, in lokacija prvega jedijevskega templja in drevesne knjižnice svetih jedijskih besedil. Porgi, lanai in thala-sirene so med domorodnimi vrstami.'}\n",
      "{'Ime': 'Ajan Kloss', 'Vrsta': 'luna', 'Prva upodobitev': 'Star Wars Battlefront II', 'Leto prve upodobitve': '2017', 'Kratek opis': 'Luna v džungli, ki služi kot nova baza za operacije Odpora.Pred leti sta tam trenirala Leia in Luke.Leia Organa umre tukaj, potem ko je porabila še zadnje moči, da bi prišla do svojega sina prek sile.'}\n",
      "{'Ime': 'Akiva', 'Vrsta': 'planet', 'Prva upodobitev': 'Star Wars: Aftermath', 'Leto prve upodobitve': '2015', 'Kratek opis': 'Planet džungle in dom Norra in Temmin Wexley ter primarno dogajanje v Aftermathu.'}\n",
      "{'Ime': 'Alderaan', 'Vrsta': 'planet', 'Prva upodobitev': 'A New Hope', 'Leto prve upodobitve': '1977', 'Kratek opis': 'Gozdovi, gore;domači planet princese Leie in hiše Organa.Uničeno s prvo smrtno kaznijo Staras zaradi vpletenosti v zavezništvo upornikov in tudi kot dokaz moči.'}\n",
      "{'Ime': 'Aldhani', 'Vrsta': 'planet', 'Prva upodobitev': 'Andor', 'Leto prve upodobitve': '2022', 'Kratek opis': 'Planet z zmernim alpskim podnebjem z visokogorjem, dolinami, gozdovi in jezeri, ki so bili sveti domorodnemu ljudstvu Dhani, dokler jih ni preselil Imperij, ki je vzpostavil oporišče znotraj jezu, v katerem je bil trezor, ki je financiral svojo vojsko.'}\n",
      "{'Ime': 'Aleen', 'Vrsta': 'luna', 'Prva upodobitev': 'Star Wars: The Clone Wars', 'Leto prve upodobitve': '2011', 'Kratek opis': 'Podzemni svet, ki se nahaja v Srednjem robu.Domače vrste vključujejo bitja, ki živijo na površini, imenovana Aleena, in čuteča bitja, podobna drevesom, imenovana Kindalo.'}\n",
      "{'Ime': 'Alzoc III', 'Vrsta': 'planet', 'Prva upodobitev': 'Star Wars Legends:Jedi Knight II: Jedi Outcast', 'Leto prve upodobitve': '2003', 'Kratek opis': 'Ledeni planet, s številnimi ledeniki, na njegovem površju pa leži strmoglavljena separatistična ladja z antigravitacijsko napravo.'}\n",
      "{'Ime': 'Anaxes', 'Vrsta': 'planet', 'Prva upodobitev': 'Star Wars Legends:Star Wars: Empire at War', 'Leto prve upodobitve': '2006', 'Kratek opis': 'Skalnat planet, ki se nahaja v Azurnem sektorju regije Core Worlds galaksije.Večji del njegove površine je bil pokrit z visokim, rdečim rastlinskim svetom.V zgodnjih letih cesarske dobe je bil planet uničen v kataklizmi, ostanki pa so postali asteroidni pas Anaxes.'}\n",
      "{'Ime': 'Ando', 'Vrsta': 'planet', 'Prva upodobitev': 'Star Wars Legends:Dark Force Rising', 'Leto prve upodobitve': '1992', 'Kratek opis': 'Planet, pokrit z vodo, ki se nahaja v zunanjem robu, je dom amfibijske vrste Aqualish in preživlja velike pretrese med separatistično krizo.'}\n",
      "{'Ime': 'Anoat', 'Vrsta': 'planet', 'Prva upodobitev': 'The Empire Strikes Back', 'Leto prve upodobitve': '1980', 'Kratek opis': 'Onesnaženo;Skoraj negostoljuben planet, ki ga uporablja Imperij.'}\n",
      "{'Ime': 'Atollon', 'Vrsta': 'planet', 'Prva upodobitev': 'Star Wars Rebels', 'Leto prve upodobitve': '2016', 'Kratek opis': 'Puščavski planet, mesto baze upornikov Phoenix Squadron.Dom pajkom podobnih šesteronožcev, znanih kot Krykna, in močnega orožja Benduja.Bitko pri Atollonu je dovolil sam veliki admiral Thrawn in je uničil večino baze, zaradi česar je morala eskadrilja Phoenix oditi.'}\n",
      "{'Ime': 'Barton 4', 'Vrsta': 'planet', 'Prva upodobitev': 'The Bad Batch', 'Leto prve upodobitve': '2023', 'Kratek opis': 'Ledeni planet, kjer je Galaktični imperij vzdrževal skladišče zalog.Klonski vojak CT-9904 \"Crosshair\" je bil poslan v postojanko na planetu.'}\n",
      "{'Ime': 'Balnab', 'Vrsta': 'luna', 'Prva upodobitev': 'Star Wars: The Clone Wars', 'Leto prve upodobitve': '2008', 'Kratek opis': 'Barbarski svet, ki sta ga nekoč obiskala R2-D2 in C-3PO.'}\n",
      "{'Ime': 'Batuu', 'Vrsta': 'planet', 'Prva upodobitev': 'Thrawn: Alliances', 'Leto prve upodobitve': '2018', 'Kratek opis': 'Planet z oddaljeno obmejno postojanko in starim trgovskim pristaniščem.'}\n",
      "{'Ime': 'Bespin', 'Vrsta': 'planet', 'Prva upodobitev': 'The Empire Strikes Back', 'Leto prve upodobitve': '1980', 'Kratek opis': 'Planet Agas s tanko plastjo bivalne atmosfere, kjer se nahaja Cloud City.Plasti plina na planetu so bile vir redkega plina tibanna, ki so ga pridobivali in rafinirali v rudarskih kompleksih, kot je Cloud City.'}\n",
      "{'Ime': 'Bogano', 'Vrsta': 'planet', 'Prva upodobitev': 'Star Wars Jedi: Fallen Order', 'Leto prve upodobitve': '2019', 'Kratek opis': 'Večinoma nenaseljen travnat planet v Zunanjem robu, kjer se nahaja trezor Zeffo.'}\n",
      "{'Ime': 'Bracca', 'Vrsta': 'planet', 'Prva upodobitev': 'Star Wars Jedi: Fallen Order', 'Leto prve upodobitve': '2019', 'Kratek opis': 'Negostoljuben odpadni planet v Srednjem robu, ki velja za strateško pomembnega v Vojnah klonov.Postane koristen za Scrapper Guild, katerega člani rešujejo odslužene ladje za imperij.'}\n",
      "{'Ime': 'Cantonica', 'Vrsta': 'planet', 'Prva upodobitev': 'The Last Jedi', 'Leto prve upodobitve': '2017', 'Kratek opis': 'Suh planet, kjer se nahaja letoviško mesto Canto Bight, dom igralnice Canto Casino in Racetracka.'}\n",
      "{'Ime': 'Castilon', 'Vrsta': 'planet', 'Prva upodobitev': 'Star Wars Resistance', 'Leto prve upodobitve': '2018', 'Kratek opis': 'Oceanski planet, ki se nahaja v Zunanjem robu blizu Divjega vesolja.Domača postaja za oskrbo z gorivom za letala Colossus, pa tudi cilj dirkačev.'}\n",
      "{'Ime': 'Cato Neimoidia', 'Vrsta': 'luna', 'Prva upodobitev': 'Star Wars Legends:Darth Maul: Saboteur', 'Leto prve upodobitve': '2001', 'Kratek opis': 'Svet kolonije neimodijske vrste.Prizorišče bitk med Vojnami klonov, znano po svojih \"mostnih mestih\".Tudi mesto Plo Koonove smrti med Veliko Jedijsko čistko.'}\n",
      "{'Ime': 'Chandrila', 'Vrsta': 'planet', 'Prva upodobitev': 'Star Wars Legends:The Truce at Bakura', 'Leto prve upodobitve': '1994', 'Kratek opis': 'Domači svet Mona Mothma in Bena Sola, služi kot prva prestolnica Nove republike.Spokojen planet, znan po mirnem morju in hribih.'}\n",
      "{'Ime': 'Christophsis', 'Vrsta': 'luna', 'Prva upodobitev': 'Star Wars: The Clone Wars', 'Leto prve upodobitve': '2008', 'Kratek opis': 'Med Vojnami klonov se tukaj odvija bitka pri Christophsisu, ki služi kot uvod v Ahsoko Tano.'}\n",
      "{'Ime': 'Concord Dawn', 'Vrsta': 'planet', 'Prva upodobitev': 'Star Wars Legends:The Last One Standing: The Tale of Boba Fett', 'Leto prve upodobitve': '1996', 'Kratek opis': 'Domači planet Janga Fetta.Naseljiv planet, ki je obkrožen z veliko količino ruševin iz številnih hudih vojn.Prej pod nadzorom Mandalorijcev.'}\n",
      "{'Ime': 'Corellia', 'Vrsta': 'planet', 'Prva upodobitev': 'A New Hope', 'Leto prve upodobitve': '1977', 'Kratek opis': \"Industrijski planet v jedru galaksije z močno kulturo usposabljanja pilotov.Domači svet Hana Soloa in Qi're.\"}\n",
      "{'Ime': 'Coruscant', 'Vrsta': 'planet', 'Prva upodobitev': 'Star Wars Legends:Heir to the Empire', 'Leto prve upodobitve': '1991', 'Kratek opis': 'Svetovljanski urbani svet, sestavljen iz enega planetarnega mesta.Coruscant se nahaja v osrčju galaksije Vojna zvezd z več kot bilijonom prebivalcev in je vladno središče Galaktične republike in kasneje Galaktičnega imperija.Dom glavnega Jedijevega templja.[34]'}\n",
      "{'Ime': 'Crait', 'Vrsta': 'planet', 'Prva upodobitev': 'Leia, Princess of Alderaan', 'Leto prve upodobitve': '2017', 'Kratek opis': 'Majhen mineralni planet, ki se nahaja v oddaljenem delu galaksije, njegova površina je prekrita s plastjo bele soli nad rdečo prstjo.In Leia, Princesa Alderaanit je lokacija zgodnje postojanke Uporniškega zavezništva.Leia in njene preostale odporniške sile pobegnejo tja v The Last Jedi, kjer se soočijo s Prvim redom.'}\n",
      "{'Ime': 'Daiyu', 'Vrsta': 'planet', 'Prva upodobitev': 'Obi-Wan Kenobi', 'Leto prve upodobitve': '2022', 'Kratek opis': 'Planet mestne pokrajine, kjer Ben Kenobi začne iskati Leio Organo.'}\n",
      "{'Ime': \"D'Qar\", 'Vrsta': 'luna', 'Prva upodobitev': 'The Force Awakens', 'Leto prve upodobitve': '2015', 'Kratek opis': 'Mesto odporniške operativne baze, ki jo vodi general Leia Organa.'}\n",
      "{'Ime': 'Dagobah', 'Vrsta': 'planet', 'Prva upodobitev': 'The Empire Strikes Back', 'Leto prve upodobitve': '1980', 'Kratek opis': 'Močvirni planet in Yodina rezidenca po padcu Jedijev.'}\n",
      "{'Ime': 'Dantooine', 'Vrsta': 'planet', 'Prva upodobitev': 'A New Hope', 'Leto prve upodobitve': '1977', 'Kratek opis': 'Podeželski planet in nekdanje mesto baze upornikov.Pisci Rogue One so menili, da bi prikazali upornike, ki evakuirajo bazo za Yavin\\xa04, vendar \"to ni premaknilo zgodbe naprej in bi stalo ogromno denarja.\"'}\n",
      "{'Ime': 'Dathomir', 'Vrsta': 'luna', 'Prva upodobitev': 'Star Wars Legends:The Courtship of Princess Leia', 'Leto prve upodobitve': '1994', 'Kratek opis': 'Sithov svet in domači svet Nightsisters, vključno z Asajj Ventress, občutljivo na silo.Tudi domači svet bojevnikov Zabrak, vključno z Darthom Maulom.Odročen svet, ki se nenehno kopa v krvavo rdeči sončni svetlobi in dom številnim nevarnim plenilcem.'}\n",
      "{'Ime': 'Devaron', 'Vrsta': 'planet', 'Prva upodobitev': 'Star Wars Legends:Tales from the Mos Eisley Cantina', 'Leto prve upodobitve': '1995', 'Kratek opis': 'Gozdni planet s starodavnim templjem Jedijev.Dom rogate devaronske vrste.'}\n",
      "{'Ime': 'Eadu', 'Vrsta': 'planet', 'Prva upodobitev': 'Rogue One', 'Leto prve upodobitve': '2016', 'Kratek opis': 'Skalnat, gorat planet, ki ga obdajajo nenehne močne nevihte.Dom cesarskega raziskovalnega obrata za orožje.Njegov videz je delno navdihnil fiktivni planet LV-426 iz franšize Alien.'}\n",
      "{'Ime': 'Endor', 'Vrsta': 'planet', 'Prva upodobitev': 'Return of the Jedi', 'Leto prve upodobitve': '1983', 'Kratek opis': 'Modri plinski velikan s kompleksnim planetarnim sistemom, vključno z lunami, kot sta Sanctuary in Kef Bir, je bil pod nadzorom Imperija, dokler ni bila uničena druga Zvezda smrti.'}\n",
      "{'Ime': 'Endor(Sanctuary)', 'Vrsta': 'luna', 'Prva upodobitev': 'Return of the Jedi', 'Leto prve upodobitve': '1983', 'Kratek opis': 'Gozdna luna, ki je druga orbita zvezde smrti, in hiša do imperialne postojanke.Naseljen z Ewoki.Lokacija bitke med zavezništvom upornikov in imperijem, ki je vodila do uničenja druge Zvezde smrti.'}\n",
      "{'Ime': 'Er´kit', 'Vrsta': 'planet', 'Prva upodobitev': 'Star Wars Commander', 'Leto prve upodobitve': '2014', 'Kratek opis': \"Puščavski planet, ki se nahaja na ozemljih zunanjega obroča galaksije.Domači svet vrste Er'Kit.\"}\n",
      "{'Ime': 'Eriadu', 'Vrsta': 'planet', 'Prva upodobitev': 'Star Wars Legends:Darth Maul: Saboteur', 'Leto prve upodobitve': '2001', 'Kratek opis': 'Planet, ki se nahaja v zunanjem robu galaksije.Domači svet Grand Moffa Tarkina in njegove družine.'}\n",
      "{'Ime': 'Esseles', 'Vrsta': 'luna', 'Prva upodobitev': 'Star Wars Legends:Episode I Adventures', 'Leto prve upodobitve': '1999', 'Kratek opis': 'Pod imperialnim nadzorom.Imperij ima prisluškovalno postajo, skrito v ledenem obroču Esseles.'}\n",
      "{'Ime': 'Exegol', 'Vrsta': 'planet', 'Prva upodobitev': 'The Rise of Skywalker', 'Leto prve upodobitve': '2019', 'Kratek opis': 'Nevihtni planet v \"neznanih regijah\" galaksije, katerega lokacija je namerno zakrita s prizadevanji Republike in Jedijev.Starodavni bastion Sithov služi kot brlog Dartha Sidiousa in Sith Eternal med gradnjo armade Sithov, znane kot Končni red.'}\n",
      "{'Ime': 'Felucia', 'Vrsta': 'planet', 'Prva upodobitev': 'Revenge of the Sith', 'Leto prve upodobitve': '2005', 'Kratek opis': 'Planet v džungli, poln rastlin, vendar malo živalskega sveta. Aayla Securais je bila tukaj umorjena med veliko Jedijsko čistko.'}\n",
      "{'Ime': 'Ferrix', 'Vrsta': 'planet', 'Prva upodobitev': 'Andor', 'Leto prve upodobitve': '2022', 'Kratek opis': 'Puščavski planet z obsežno industrijo odpadkov in znan po svojih trgih reševanja.'}\n",
      "{'Ime': 'Florrum', 'Vrsta': 'planet', 'Prva upodobitev': 'Star Wars: The Clone Wars', 'Leto prve upodobitve': '2009', 'Kratek opis': 'Žveplov puščavski planet.Hondo Ohnaka je vodja piratske tolpe na planetu.'}\n",
      "{'Ime': 'Fondor', 'Vrsta': 'luna', 'Prva upodobitev': 'Star Wars Legends:Darth Vader Strikes', 'Leto prve upodobitve': '1981', 'Kratek opis': 'Cesarski proizvodni center z velikimi ladjedelnicami.'}\n",
      "{'Ime': 'Geonosis', 'Vrsta': 'planet', 'Prva upodobitev': 'Attack of the Clones', 'Leto prve upodobitve': '2002', 'Kratek opis': 'Skalnat puščavski planet, kjer izdelujejo bojne droide, in mesto uvodne bitke Vojne klonov.Domneva se, da je Imperij v Star Wars Rebels uničil vse življenje na planetu, z dvema izjemama: Klik-Klakom in njegovim potomcem.Primarno gradbišče prve Zvezde smrti.Domači svet Geonosijcev.'}\n",
      "{'Ime': 'Hosnian Prime', 'Vrsta': 'planet', 'Prva upodobitev': 'The Force Awakens', 'Leto prve upodobitve': '2015', 'Kratek opis': 'Urbani planet in prestolnica Nove republike.Uničilo oporišče Starkiller prvega reda.'}\n",
      "{'Ime': 'Hoth', 'Vrsta': 'planet', 'Prva upodobitev': 'The Empire Strikes Back', 'Leto prve upodobitve': '1980', 'Kratek opis': 'Pust ledeni planet in baza za zavezništvo upornikov.'}\n",
      "{'Ime': 'Iego', 'Vrsta': 'planet', 'Prva upodobitev': 'The Phantom Menace', 'Leto prve upodobitve': '1999', 'Kratek opis': 'Planet zunanjega obroča, na katerem živijo leteča bitja, imenovana Xandu, in medicinsko pomembne rastline, imenovane Reeska.Iego je obkrožen s 1000 lunami in vsaj ena od teh, imenovana Millius Prime, je dom rase, imenovane Angeli.'}\n",
      "{'Ime': 'Ilum', 'Vrsta': 'planet', 'Prva upodobitev': 'Star Wars Legends:Jedi Quest: Path to Truth', 'Leto prve upodobitve': '2001', 'Kratek opis': 'Oddaljen ledeni planet, kjer kopljejo kyber kristale.Prvi red ga je spremenil v Starkiller Base in uničil v The Force Awakens.'}\n",
      "{'Ime': 'Iridonia', 'Vrsta': 'luna', 'Prva upodobitev': 'Star Wars Legends:Star Wars Episode I Journal: Darth Maul', 'Leto prve upodobitve': '2000', 'Kratek opis': 'Dom iridonskega ljudstva Zabrak in nekoč govorice o rojstnem kraju Dartha Maula.'}\n",
      "{'Ime': 'Jabiim', 'Vrsta': 'planet', 'Prva upodobitev': 'Star Wars Legends:Star Wars: Republic', 'Leto prve upodobitve': '2003', 'Kratek opis': 'Mesto puščavskega planeta Poti, kjer Ben Kenobi pomaga ljudem pobegniti iz imperija.'}\n",
      "{'Ime': 'Jakku', 'Vrsta': 'planet', 'Prva upodobitev': 'The Force Awakens', 'Leto prve upodobitve': '2015', 'Kratek opis': 'Puščavski planet.Mesto \"pokopališča\" ladij, poškodovanih med bitko pri Jakkuju, zadnji bitki med Novo republiko in Galaktičnim cesarstvom.Tudi domovina Reya.'}\n",
      "{'Ime': 'Jedha', 'Vrsta': 'luna', 'Prva upodobitev': 'Rogue One', 'Leto prve upodobitve': '2016', 'Kratek opis': 'Hladna puščavska luna in sveto mesto za vernike v Silo.Vir kristalov kyber, ki se uporablja za svetlobne meče in glavno orožje Zvezde smrti.To je tudi prva lokacija, na kateri se testira uničujoča sposobnost Zvezde smrti. Direktor Rogue One, Gareth Edwards, je lokacijo opisal kot \"Meka ali Jeruzalem znotraj sveta Vojne zvezd\".Je tudi homonim za Džedo, glavna vrata v Meko.'}\n",
      "{'Ime': 'Jelucan', 'Vrsta': 'planet', 'Prva upodobitev': 'Star Wars: Lost Stars', 'Leto prve upodobitve': '2015', 'Kratek opis': 'Skalnat, gorat planet v Zunanjem robu in domovina Thana Kyrella in Ciene Ree.'}\n",
      "{'Ime': 'Jestefad', 'Vrsta': 'planet', 'Prva upodobitev': 'Revenge of the Sith', 'Leto prve upodobitve': '2005', 'Kratek opis': 'Velik plinasti planet, ki je del sistema Mustafar.Neposredno odgovoren za vulkansko podnebje Mustafarja zaradi intenzivnega gravitacijskega vlečenja vrvi z bližnjim plinastim velikanom Lefranijem.'}\n",
      "{'Ime': 'Kamino', 'Vrsta': 'planet', 'Prva upodobitev': 'Attack of the Clones', 'Leto prve upodobitve': '2002', 'Kratek opis': 'Oceanski planet, ki se nahaja izven glavne galaksije, kjer se razvija tehnologija kloniranja in ustvarja in usposablja vojska klonov. Obi-Wan Kenobi odkrije, da planet manjka v Jedijevih arhivih;pozneje se razkrije, da je bil izbrisan kot del zarote Sithov, da bi začeli Vojno klonov in prevzeli galaksijo.'}\n",
      "{'Ime': 'Kashyyyk', 'Vrsta': 'planet', 'Prva upodobitev': 'Star Wars Holiday Special', 'Leto prve upodobitve': '1978', 'Kratek opis': 'Gozdni planet in dom Wookiejev.Tudi mesto ene od zadnjih bitk Vojne klonov.'}\n",
      "{'Ime': 'Kef Bir', 'Vrsta': 'luna', 'Prva upodobitev': 'The Rise of Skywalker', 'Leto prve upodobitve': '2019', 'Kratek opis': 'Luna Endor in lokacija nekaterih razbitin druge Zvezde smrti, potem ko je bila uničena v Jedijevi vrnitvi.'}\n",
      "{'Ime': 'Kessel', 'Vrsta': 'planet', 'Prva upodobitev': 'Star Wars', 'Leto prve upodobitve': '1977', 'Kratek opis': 'Rudarski planet, za katerega so se bojevali kriminalni gospodarji zaradi njegove dragocene začimbe.Odprtina pod začimbnimi rudniki je služila kot vir astatičnega koaksija, elementa, ki bi ga lahko rafinirali v hipergorivo za zvezdne ladje.'}\n",
      "{'Ime': 'Kijimi', 'Vrsta': 'planet', 'Prva upodobitev': 'The Rise of Skywalker', 'Leto prve upodobitve': '2019', 'Kratek opis': 'Hladen gorat planet.To je bil domači svet Zorii Bliss, vodje tihotapske tolpe, znane kot Spice Runners of Kijimi.Kasneje ga uniči zvezdni uničevalec razreda Xyston Derriphano iz flote Sith Eternal, Final Order, kot dokaz moči za preostanek galaksije.'}\n",
      "{'Ime': 'Koboh', 'Vrsta': 'planet', 'Prva upodobitev': 'Star Wars Jedi: Survivor', 'Leto prve upodobitve': '2023', 'Kratek opis': \"Robusten planet, znan po obilici mineralov.Lokacija postojanke Rambler's Reach.\"}\n",
      "{'Ime': 'Kuat', 'Vrsta': 'planet', 'Prva upodobitev': \"Star Wars Legends:Wedge's Gamble\", 'Leto prve upodobitve': '1996', 'Kratek opis': 'Industrijski planet, dom podjetja Kuat Drive Yards, proizvajalca uničevalcev zvezd.'}\n",
      "{'Ime': \"Lah'mu\", 'Vrsta': 'planet', 'Prva upodobitev': 'Catalyst: A Rogue One Novel', 'Leto prve upodobitve': '2016', 'Kratek opis': 'Odročni planet s črnim peskom, kjer se Jyn Erso in njeni starši skrivajo.'}\n",
      "{'Ime': 'Lothal', 'Vrsta': 'planet', 'Prva upodobitev': 'Star Wars Rebels', 'Leto prve upodobitve': '2014', 'Kratek opis': 'Oddaljeni kmetijski planet in rojstni kraj Ezre Bridgerja.'}\n",
      "{'Ime': 'Lotho Minor', 'Vrsta': 'planet', 'Prva upodobitev': 'Star Wars: The Clone Wars', 'Leto prve upodobitve': '2011', 'Kratek opis': 'Planetarno smetišče in skrivališče Dartha Maula po njegovi domnevni smrti.'}\n",
      "{'Ime': 'Malachor', 'Vrsta': 'luna', 'Prva upodobitev': 'Star Wars Legends:Star Wars Knights of the Old Republic II: The Sith Lords', 'Leto prve upodobitve': '2004', 'Kratek opis': 'Opustošen svet Sithov in prizorišče dveh velikih bitk v razmiku tisoče let: ena je vključevala Bič Malachorja, druga med Darthom Maulom, več uporniki, Darthom Vaderjem in več inkvizitorji.'}\n",
      "{'Ime': 'Malastare', 'Vrsta': 'planet', 'Prva upodobitev': 'The Phantom Menace', 'Leto prve upodobitve': '1999', 'Kratek opis': 'Gozdnati planet, kjer je priljubljen podracing.Rojstni kraj Sebulba in domači svet Duga.'}\n",
      "{'Ime': 'Mandalore', 'Vrsta': 'planet', 'Prva upodobitev': 'Star Wars Legends:Marvel Star Wars', 'Leto prve upodobitve': '1982', 'Kratek opis': 'Planet zunanjega obroča, ki je domači svet Mandalorijcev, ki so ga raztrgale vojne med Mandalorijci in Jedi in ga je Imperij sčasoma očistil, tako da je nekaj Mandalorijcev razkropil po vsej galaksiji (vključno z Bo-Katanom).Mandalore ima eno luno, Concordio, ki je popolnoma naseljena.'}\n",
      "{'Ime': 'Mapuzo', 'Vrsta': 'planet', 'Prva upodobitev': 'Obi-Wan Kenobi', 'Leto prve upodobitve': '2022', 'Kratek opis': 'Galaktični imperij je pustil planet, kjer se skrivata Ben Kenobi in Leia Organa;prvi povratni dvoboj med Kenobijem in Vaderjem.'}\n",
      "{'Ime': 'Maridun', 'Vrsta': 'planet', 'Prva upodobitev': 'Star Wars Legends:Star Wars: Empire', 'Leto prve upodobitve': '2004', 'Kratek opis': 'Travnati planet, ki je ostal neodkrit do Vojne klonov.'}\n",
      "{'Ime': 'Mimban', 'Vrsta': 'planet', 'Prva upodobitev': \"Star Wars Legends:Splinter of the Mind's Eye\", 'Leto prve upodobitve': '1978', 'Kratek opis': 'Močvirni planet z večno meglo in oblačnim nebom.'}\n",
      "{'Ime': 'Mon Cala', 'Vrsta': 'planet', 'Prva upodobitev': 'Star Wars Legends:Dark Empire', 'Leto prve upodobitve': '1991', 'Kratek opis': 'Oceanski planet, dom vrst Mon Calamarian in Quarren.Znan tudi kot Mon Calamari ali Dac.'}\n",
      "{'Ime': 'Moraband', 'Vrsta': 'planet', 'Prva upodobitev': 'Star Wars: The Clone Wars', 'Leto prve upodobitve': '2014', 'Kratek opis': 'Domači planet starodavnih gospodarjev Sithov.V Legendah znan kot Korriban.'}\n",
      "{'Ime': 'Mortis', 'Vrsta': 'planet', 'Prva upodobitev': 'Star Wars: The Clone Wars', 'Leto prve upodobitve': '2011', 'Kratek opis': 'Planet, ki obstaja v duhovnem kraljestvu znotraj Sile, z zidom, ki ga obdaja, kjer živijo trije skoraj vsemogočni lastniki Sile, znani samo v arhivih Jedijev kot bogovi Mortis.Rečeno je, da je \"planet kanal, skozi katerega teče Sila.\"[87]'}\n",
      "{'Ime': 'Mustafar', 'Vrsta': 'planet', 'Prva upodobitev': 'Revenge of the Sith', 'Leto prve upodobitve': '2005', 'Kratek opis': 'Vulkanski planet in svet Sithov, ki ga uporablja Techno Union za rudarjenje dragocenih materialov.Skrivališče separatističnega sveta v zadnjih dneh Vojne klonov in lokacija dvoboja med Anakinom Skywalkerjem in Obi-Wanom Kenobijem, ki povzroči iznakazitev prvega.Med cesarsko dobo je bila tam osebna trdnjava Dartha Vaderja. V igri VR Vader Immortal je razkrito, da je bil Mustafar nekoč gozdnat in zelo poseljen, vendar ga je starodavna bitka opustošila.Kasneje se začne počasi celiti in do časa Vzpona Skywalkerja se zdi, da so drevesa ponovno zrasla na Mustafarjevi površini.'}\n",
      "{'Ime': 'Mygeeto', 'Vrsta': 'planet', 'Prva upodobitev': 'Revenge of the Sith', 'Leto prve upodobitve': '2005', 'Kratek opis': 'Hladen urbani planet, ki je služil kot prizorišče bitke v zadnjih dneh vojn klonov, pa tudi kraj smrti Jedi MasterKi Adi Mundiby Red 66. Svet kolonije vrste Muun.'}\n",
      "{'Ime': 'Naboo', 'Vrsta': 'planet', 'Prva upodobitev': 'The Phantom Menace', 'Leto prve upodobitve': '1999', 'Kratek opis': 'Domači planet Gunganov, vključno z Jar-Jar Binksom, in različnih ljudi, ki sestavljajo civilizacijo, imenovano Naboo, ki vključuje Padmé Amidala in Palpatine.'}\n",
      "{'Ime': 'Nal Hutta', 'Vrsta': 'planet', 'Prva upodobitev': 'Star Wars Legends:Dark Empire', 'Leto prve upodobitve': '1991', 'Kratek opis': 'Domači planet Jabba in drugih Huttov.Blizu urbane lune Nar Shaddaa.'}\n",
      "{'Ime': 'Nevarro', 'Vrsta': 'planet', 'Prva upodobitev': 'The Mandalorian', 'Leto prve upodobitve': '2019', 'Kratek opis': 'Vulkanski planet s črnim peskom in tokovi lave, ki se nahaja na zunanjih ozemljih.Nevarro je bil središče ceha lovcev na glave, pa tudi dom mandalorijskega tajnika v zgodnjih dneh Nove republike.'}\n",
      "{'Ime': 'Niamos', 'Vrsta': 'planet', 'Prva upodobitev': 'Andor', 'Leto prve upodobitve': '2022', 'Kratek opis': 'Topel, sončen letoviški planet s prijetnimi plažami in mirnimi vodami, ki služi kot destinacija za skrivanje razbojnikov.Pod cesarsko okupacijo je bil tam Cassiana Andorja aretiran s strani cesarskih obalnih policistov in obsojen na šestletno zaporno kazen.'}\n",
      "{'Ime': 'Numidian Prime', 'Vrsta': 'luna', 'Prva upodobitev': 'Solo: A Star Wars Story', 'Leto prve upodobitve': '2018', 'Kratek opis': 'Raj v deževnem gozdu, ki je zatočišče za tihotapce in tatove.'}\n",
      "{'Ime': 'Nur', 'Vrsta': 'luna', 'Prva upodobitev': 'Star Wars Jedi: Fallen Order', 'Leto prve upodobitve': '2019', 'Kratek opis': 'Vodna luna Mustafar, baza trdnjave Inquisitorius, kjer Ben Kenobi reši Leio Organa.'}\n",
      "{'Ime': 'Onderon', 'Vrsta': 'planet', 'Prva upodobitev': 'Star Wars Legends:Tales of the Jedi', 'Leto prve upodobitve': '1994', 'Kratek opis': 'Planet džungle, kjer Anakin Skywalker in njegov padawan Ashoka Tano vodita upor proti svojemu uzurpatorskemu kralju Sanjayu Rushu, ki ga nadzorujejo separatisti, med Vojnami klonov;rojstni kraj Sawa Gerrere.'}\n",
      "{'Ime': 'Ord Mantell', 'Vrsta': 'planet', 'Prva upodobitev': 'The Empire Strikes Back', 'Leto prve upodobitve': '1980', 'Kratek opis': 'Planet, kjer Han Solo pripoveduje o zaletu z lovcem na glave.'}\n",
      "{'Ime': 'Ossus', 'Vrsta': 'planet', 'Prva upodobitev': 'The Force Awakens', 'Leto prve upodobitve': '2015', 'Kratek opis': 'Zeleni planet;dom jedijevega templja Lukea Skywalkerja.'}\n",
      "{'Ime': 'Pasaana', 'Vrsta': 'planet', 'Prva upodobitev': 'The Rise of Skywalker', 'Leto prve upodobitve': '2019', 'Kratek opis': 'Puščavski planet na robu galaksije, dom vrste Aki-Aki.'}\n",
      "{'Ime': 'Pillio', 'Vrsta': 'planet', 'Prva upodobitev': 'Star Wars Battlefront II', 'Leto prve upodobitve': '2017', 'Kratek opis': 'Nekoloniziran vodni planet z več kot 3 milijoni vrst in lokacijo enega od observatorijev Dartha Sidiousa.'}\n",
      "{'Ime': 'Polis Massa', 'Vrsta': 'planet', 'Prva upodobitev': 'Revenge of the Sith', 'Leto prve upodobitve': '2005', 'Kratek opis': 'Planetoid zunanjega obroča v istoimenskem asteroidnem polju;rojstni kraj Lukea Skywalkerja in Leie Organa.'}\n",
      "{'Ime': 'Rishi', 'Vrsta': 'planet', 'Prva upodobitev': 'Star Wars Legends:Dark Force Rising', 'Leto prve upodobitve': '1992', 'Kratek opis': 'Tropski planet, ki ga Republika uporablja za nadzor bližnjega obrata za kloniranje na Kaminu.'}\n",
      "{'Ime': 'Rodia', 'Vrsta': 'planet', 'Prva upodobitev': 'Star Wars Legends:Shadows of the Empire', 'Leto prve upodobitve': '1996', 'Kratek opis': 'Domači planet Rodiancev, vključno z Greedom.Odročen močvirnat planet v džungli ga je med Vojnami klonov predstavljala Onaconda Farr v galaktičnem senatu.'}\n",
      "{'Ime': 'Rugosa', 'Vrsta': 'luna', 'Prva upodobitev': 'Star Wars: The Clone Wars', 'Leto prve upodobitve': '2008', 'Kratek opis': 'Luna, ki je sestavljena iz velikanskih koralnih grebenov.Yoda se tukaj sreča s kraljem Toydariancev Katuunkom, potem ko ga je v zgodnjih dneh Vojne klonov preizkusila separatistična vojska droidov.Tu je kralj Katuunko obljubil zvestobo Toydarije Galaktični republiki.'}\n",
      "{'Ime': 'Ruusan', 'Vrsta': 'planet', 'Prva upodobitev': 'Star Wars Legends:Star Wars Jedi Knight: Dark Forces II', 'Leto prve upodobitve': '1997', 'Kratek opis': 'Neploden planet, na katerem je Dolina Jedijev.Mesto velike bitke med Sithom in Jedijem.'}\n",
      "{'Ime': 'Ryloth', 'Vrsta': 'planet', 'Prva upodobitev': \"Star Wars Legends:Tales from Jabba's Palace\", 'Leto prve upodobitve': '1995', 'Kratek opis': \"Suh, vroč domači planet Twi'lekov, vključno s Hero Syndulla in Jedi Master Aaylo Secura.\"}\n",
      "{'Ime': 'Saleucami', 'Vrsta': 'luna', 'Prva upodobitev': 'Revenge of the Sith', 'Leto prve upodobitve': '2005', 'Kratek opis': 'Primarni teren puščave in močvirja.Dom dezerterja klonov Trooper Cut Lawquane.Jedi mojster Stass Allie je tukaj ubit med veliko jedijsko čistko.'}\n",
      "{'Ime': 'Savareen', 'Vrsta': 'planet', 'Prva upodobitev': 'Star Wars Legends:Star Wars Adventure Journal 9', 'Leto prve upodobitve': '1996', 'Kratek opis': 'Puščavski in oceanski planet.kjer revne vasi gojijo veter in rafinirajo koaksium.V Solo: Zgodba iz Vojne zvezd Millennium Falcon prispe tja, potem ko Han in njegova ekipa ukradejo koaksium Kesselu, Dryden Vos in Tobias Beckett pa tam umreta.'}\n",
      "{'Ime': 'Scarif', 'Vrsta': 'planet', 'Prva upodobitev': 'Star Wars Battlefront:Rogue One: Scarif', 'Leto prve upodobitve': '2016', 'Kratek opis': 'Oceanski \"rajski svet\", ki je bil uporabljen za gradnjo Zvezde smrti, potem ko je bil projekt prestavljen iz Geonosisa v času imperija.Ko člani Uporniškega zavezništva vdrejo v cesarsko bazo podatkov iz tajne baze na enem od njegovih tropskih otokov, je planet uničen, da bi preprečili njihov pobeg z načrti Zvezde smrti.'}\n",
      "{'Ime': 'Seatos', 'Vrsta': 'planet', 'Prva upodobitev': 'Ahsoka', 'Leto prve upodobitve': '2023', 'Kratek opis': 'Gozdni planet z rdečelistnimi drevesi.Lokacija točke Reflex in kjer je zgrajena ladja Morgan Elsbeth, Sionsko oko.'}\n",
      "{'Ime': 'Serenno', 'Vrsta': 'planet', 'Prva upodobitev': 'Star Wars Legends:Darth Bane: Rule of Two', 'Leto prve upodobitve': '2007', 'Kratek opis': 'Planet na ozemljih zunanjega roba.Domači svet grofa Dookuja.'}\n",
      "{'Ime': 'Shili', 'Vrsta': 'planet', 'Prva upodobitev': 'Star Wars: The Clone Wars', 'Leto prve upodobitve': '2012', 'Kratek opis': 'Domači planet Togruta, vključno s članom sveta Jedijev Shaak Tiand Padawan Ahsoka Tano.'}\n",
      "{'Ime': 'Sissubo', 'Vrsta': 'planet', 'Prva upodobitev': 'Star Wars Squadrons', 'Leto prve upodobitve': '2020', 'Kratek opis': 'Sedmi planet sistema Chandrila.Obdaja ga polje ruševin ostankov cesarskih ladij.'}\n",
      "{'Ime': 'Skako Minor', 'Vrsta': 'planet', 'Prva upodobitev': 'Star Wars: The Clone Wars', 'Leto prve upodobitve': '2020', 'Kratek opis': 'Domači planet Wat Tambor.Znan po visokotlačni atmosferi, zaradi katere morajo vsi Skakoanci zunaj sveta nositi posebne obleke.'}\n",
      "{'Ime': 'Sorgan', 'Vrsta': 'planet', 'Prva upodobitev': 'The Mandalorian', 'Leto prve upodobitve': '2019', 'Kratek opis': 'Gozdnati zaledni planet v zunanjem robu, ki ga večinoma naseljujejo kmetje, ki nabirajo kril, ki se uporablja za izdelavo spotchke, priljubljene pijače na planetu.Lokalne kmete nenehno napadajo Klatooinijci.'}\n",
      "{'Ime': 'Subterrel', 'Vrsta': 'planet', 'Prva upodobitev': 'Attack of the Clones', 'Leto prve upodobitve': '2002', 'Kratek opis': 'Rudarski planet, ki ga je omenil Dexter Jettster, ki je tam iskal čas.Nahaja se v bližini Kamina, onkraj zunanjega roba.'}\n",
      "{'Ime': 'Sullust', 'Vrsta': 'planet', 'Prva upodobitev': 'Return of the Jedi', 'Leto prve upodobitve': '1983', 'Kratek opis': 'Vulkanski planet, katerega atmosfera je bila zelo strupena, je prisilila staroselce Sullustance, da so zgradili tehnološko napredna podzemna mesta.To je bila baza cesarskih tovarn in korporacija SoroSuub je zaposlovala približno polovico prebivalstva.'}\n",
      "{'Ime': 'Takodana', 'Vrsta': 'planet', 'Prva upodobitev': 'The Force Awakens', 'Leto prve upodobitve': '2015', 'Kratek opis': 'Gozdni planet in mesto gradu Maza Kanate.Nevtralno ozemlje med prvim redom in odporom.'}\n",
      "{'Ime': 'Tanalorr', 'Vrsta': 'planet', 'Prva upodobitev': 'Star Wars Jedi: Survivor', 'Leto prve upodobitve': '2023', 'Kratek opis': 'Planet, močan s Silo, skrit v meglici blizu Koboha.Dom jedijevega templja Dagana Gere.'}\n",
      "{'Ime': 'Tatooine', 'Vrsta': 'planet', 'Prva upodobitev': 'A New Hope', 'Leto prve upodobitve': '1977', 'Kratek opis': 'Puščavski planet in dom otroštva Anakina Skywalkerja in Luke Skywalkerja.Lokacija palače Jabba the Hutt.'}\n",
      "{'Ime': 'Teth', 'Vrsta': 'planet', 'Prva upodobitev': 'The Clone Wars', 'Leto prve upodobitve': '2008', 'Kratek opis': 'Med Vojnami klonov separatisti ugrabijo Jabbinega sina Rotta in ga pripeljejo na ta planet.Anakin in Ahsoka Tano odpotujeta v Teth in rešita Rotto pred Asajj Ventress.'}\n",
      "{'Ime': 'Toydaria', 'Vrsta': 'planet', 'Prva upodobitev': 'Star Wars: The Clone Wars', 'Leto prve upodobitve': '2010', 'Kratek opis': 'Domači planet Watto in drugih Toydarijcev.Blizu Nal Hutta.'}\n",
      "{'Ime': 'Trandosha', 'Vrsta': 'luna', 'Prva upodobitev': 'Star Wars Legends:The Mandalorian Armor', 'Leto prve upodobitve': '1998', 'Kratek opis': 'Domači svet trandoških lovcev.V istem sončnem sistemu kot Kashyyyk.'}\n",
      "{'Ime': 'Umbara', 'Vrsta': 'planet', 'Prva upodobitev': 'Star Wars: The Clone Wars', 'Leto prve upodobitve': '2011', 'Kratek opis': 'Planet z gosto, megleno atmosfero.Dom Umbaranov.'}\n",
      "{'Ime': 'Utapau', 'Vrsta': 'planet', 'Prva upodobitev': 'Revenge of the Sith', 'Leto prve upodobitve': '2005', 'Kratek opis': \"Odročen planet, prekrit z globokimi vrtačami in dom Utaijev in Pau'anov.Kraj smrti generala Grievousa in separatistično oporišče v zadnjih dneh Vojne klonov.\"}\n",
      "{'Ime': 'Vandor-1', 'Vrsta': 'planet', 'Prva upodobitev': 'Solo: A Star Wars Story', 'Leto prve upodobitve': '2018', 'Kratek opis': 'Ledeni, gorat planet, ki je kraj ropa vlaka Crimson Dawn, ki ga vodi Tobias Beckett v Solo: Zgodba iz Vojne zvezd.'}\n",
      "{'Ime': 'Vardos', 'Vrsta': 'luna', 'Prva upodobitev': 'Star Wars Battlefront II', 'Leto prve upodobitve': '2017', 'Kratek opis': 'Imperial trdnjava in dom Iden in Garrick Versio.Ena od prvih tarč operacije: Cinder.'}\n",
      "{'Ime': 'Wobani', 'Vrsta': 'luna', 'Prva upodobitev': 'Rogue One', 'Leto prve upodobitve': '2016', 'Kratek opis': 'Pusta puščava in kraj cesarske kazenske kolonije.'}\n",
      "{'Ime': 'Wrea', 'Vrsta': 'planet', 'Prva upodobitev': 'Star Wars Legends:The New Rebellion', 'Leto prve upodobitve': '1996', 'Kratek opis': 'Planet v bližini asteroidnega polja, kjer Saw Gerrera vzgaja Jyn Erso, potem ko njenega očeta zavzame Imperij.'}\n",
      "{'Ime': 'Yavin', 'Vrsta': 'planet', 'Prva upodobitev': 'Star Wars', 'Leto prve upodobitve': '1977', 'Kratek opis': 'Plinski planet z več lunami, vključno z Yavinom 4.'}\n",
      "{'Ime': 'Yavin 4', 'Vrsta': 'luna', 'Prva upodobitev': 'Star Wars', 'Leto prve upodobitve': '1977', 'Kratek opis': 'Gozdna luna in baza za uporniško zvezo.'}\n",
      "{'Ime': 'Zeffo', 'Vrsta': 'planet', 'Prva upodobitev': 'Star Wars Jedi: Fallen Order', 'Leto prve upodobitve': '2019', 'Kratek opis': 'Planet s številnimi gorami in nevihtnim vremenom.Vsebuje starodavne ruševine in grobnice, imperialna izkopavanja in strmoglavljen Venator v bližini starodavne grobnice.'}\n",
      "{'Ime': 'Zygerria', 'Vrsta': 'planet', 'Prva upodobitev': 'Star Wars: The Clone Wars', 'Leto prve upodobitve': '2011', 'Kratek opis': 'Planet na ozemljih zunanjega roba, dom vrste Zygerrian.Zygerria je bila znana tudi po suženjskem imperiju.'}\n"
     ]
    }
   ],
   "source": [
    "# Test\n",
    "podatki_planeti_lune = podatki_o_planetih_in_lunah(planeti_lune_url)\n",
    "\n",
    "for element in podatki_planeti_lune:\n",
    "    print(element)"
   ]
  },
  {
   "attachments": {},
   "cell_type": "markdown",
   "metadata": {},
   "source": [
    "### 3. Shranjevanje podatkov"
   ]
  },
  {
   "cell_type": "code",
   "execution_count": 80,
   "metadata": {},
   "outputs": [
    {
     "name": "stdout",
     "output_type": "stream",
     "text": [
      "Data written to planeti-lune.csv\n"
     ]
    }
   ],
   "source": [
    "def save_data_to_csv(data, csv_file):\n",
    "    csv_columns = ['Ime', 'Vrsta', 'Prva upodobitev', 'Leto prve upodobitve', 'Kratek opis',]\n",
    "\n",
    "    with open(csv_file, 'w', newline='', encoding='utf-8') as csvfile:\n",
    "        writer = csv.DictWriter(csvfile, fieldnames=csv_columns)\n",
    "        writer.writeheader()\n",
    "        writer.writerows(data)\n",
    "\n",
    "    print('Data written to', csv_file)\n",
    "\n",
    "csv_file = 'planeti-lune.csv'\n",
    "save_data_to_csv(podatki_planeti_lune, csv_file)\n"
   ]
  }
 ],
 "metadata": {
  "kernelspec": {
   "display_name": "Python 3",
   "language": "python",
   "name": "python3"
  },
  "language_info": {
   "codemirror_mode": {
    "name": "ipython",
    "version": 3
   },
   "file_extension": ".py",
   "mimetype": "text/x-python",
   "name": "python",
   "nbconvert_exporter": "python",
   "pygments_lexer": "ipython3",
   "version": "3.11.2"
  },
  "orig_nbformat": 4
 },
 "nbformat": 4,
 "nbformat_minor": 2
}
