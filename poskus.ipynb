{
 "cells": [
  {
   "attachments": {},
   "cell_type": "markdown",
   "metadata": {},
   "source": [
    "# Planeti in lune v fantazijskem svetu Vojne zvezd (Star Wars)"
   ]
  },
  {
   "cell_type": "code",
   "execution_count": 2,
   "metadata": {},
   "outputs": [],
   "source": [
    "import csv\n",
    "import os\n",
    "import requests"
   ]
  },
  {
   "attachments": {},
   "cell_type": "markdown",
   "metadata": {},
   "source": [
    "### 1. Podatki"
   ]
  },
  {
   "cell_type": "code",
   "execution_count": null,
   "metadata": {},
   "outputs": [],
   "source": [
    "#povezava do spletne strani\n",
    "planeti_lune = 'https://en.wikipedia.org/wiki/List_of_Star_Wars_planets_and_moons'\n",
    "#html izbrane strani\n",
    "planeti_lune_html = 'Planeti_in_lune.html'\n",
    "\n",
    "#datoteki v formatu csv\n",
    "planeti_csv = 'planeti.csv'\n",
    "lune_csv = 'lune.csv'\n",
    "\n",
    "#mapa z izlučenimi podatki\n",
    "podatki_izluščeni = 'podatki-izluščeni'\n"
   ]
  }
 ],
 "metadata": {
  "kernelspec": {
   "display_name": "Python 3",
   "language": "python",
   "name": "python3"
  },
  "language_info": {
   "codemirror_mode": {
    "name": "ipython",
    "version": 3
   },
   "file_extension": ".py",
   "mimetype": "text/x-python",
   "name": "python",
   "nbconvert_exporter": "python",
   "pygments_lexer": "ipython3",
   "version": "3.11.2"
  },
  "orig_nbformat": 4
 },
 "nbformat": 4,
 "nbformat_minor": 2
}
