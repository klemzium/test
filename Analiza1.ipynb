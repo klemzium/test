{
 "cells": [
  {
   "attachments": {},
   "cell_type": "markdown",
   "metadata": {},
   "source": [
    "# Analiziranje planetov in lun 1.del\n"
   ]
  },
  {
   "attachments": {},
   "cell_type": "markdown",
   "metadata": {},
   "source": [
    "V tej datoteki analiziramo podatke iz spletne strani https://en.wikipedia.org/wiki/List_of_Star_Wars_planets_and_moons. V analizi nastopa 242 primerkov(planetov in lun), za vsakega ločimo 5 kategorij (ime, vrsta, prva upodobitev, leto prve upodobitve, kratek opis):"
   ]
  },
  {
   "cell_type": "code",
   "execution_count": 11,
   "metadata": {},
   "outputs": [],
   "source": [
    "import os\n",
    "import pandas as pd\n",
    "\n",
    "podatki_obdelani = 'CSV datoteke'\n",
    "csv_1 = 'planeti-lune-1.csv'\n",
    "pd.set_option(\"display.max_rows\", 12) # Št. vrstic\n",
    "\n",
    "\n",
    "path_1 = os.path.join(podatki_obdelani, csv_1)\n",
    "planeti1 = pd.read_csv(path_1)\n",
    "planeti1.index += 1"
   ]
  },
  {
   "attachments": {},
   "cell_type": "markdown",
   "metadata": {},
   "source": [
    "## 1. Osnovne informacije"
   ]
  },
  {
   "attachments": {},
   "cell_type": "markdown",
   "metadata": {},
   "source": [
    "### 1.1 Tabela podatkov"
   ]
  },
  {
   "cell_type": "code",
   "execution_count": 12,
   "metadata": {},
   "outputs": [
    {
     "data": {
      "text/html": [
       "<div>\n",
       "<style scoped>\n",
       "    .dataframe tbody tr th:only-of-type {\n",
       "        vertical-align: middle;\n",
       "    }\n",
       "\n",
       "    .dataframe tbody tr th {\n",
       "        vertical-align: top;\n",
       "    }\n",
       "\n",
       "    .dataframe thead th {\n",
       "        text-align: right;\n",
       "    }\n",
       "</style>\n",
       "<table border=\"1\" class=\"dataframe\">\n",
       "  <thead>\n",
       "    <tr style=\"text-align: right;\">\n",
       "      <th></th>\n",
       "      <th>Ime</th>\n",
       "      <th>Vrsta</th>\n",
       "      <th>Prva upodobitev</th>\n",
       "      <th>Leto prve upodobitve</th>\n",
       "      <th>Kratek opis</th>\n",
       "    </tr>\n",
       "  </thead>\n",
       "  <tbody>\n",
       "    <tr>\n",
       "      <th>1</th>\n",
       "      <td>Abafar</td>\n",
       "      <td>planet</td>\n",
       "      <td>Star Wars: The Clone Wars</td>\n",
       "      <td>2012</td>\n",
       "      <td>Puščavski planet, ki se nahaja v zunanjem robu...</td>\n",
       "    </tr>\n",
       "    <tr>\n",
       "      <th>2</th>\n",
       "      <td>Agamar</td>\n",
       "      <td>planet</td>\n",
       "      <td>Star Wars Legends:The Farlander Papers</td>\n",
       "      <td>1993</td>\n",
       "      <td>Pust, skalnat planet v zunanjem robu.Mesto še ...</td>\n",
       "    </tr>\n",
       "    <tr>\n",
       "      <th>3</th>\n",
       "      <td>Ahch-To</td>\n",
       "      <td>planet</td>\n",
       "      <td>The Force Awakens</td>\n",
       "      <td>2015</td>\n",
       "      <td>Velik oceanski planet, na katerem se že več le...</td>\n",
       "    </tr>\n",
       "    <tr>\n",
       "      <th>4</th>\n",
       "      <td>Ajan Kloss</td>\n",
       "      <td>luna</td>\n",
       "      <td>Star Wars Battlefront II</td>\n",
       "      <td>2017</td>\n",
       "      <td>Luna v džungli, ki služi kot nova baza za oper...</td>\n",
       "    </tr>\n",
       "    <tr>\n",
       "      <th>5</th>\n",
       "      <td>Akiva</td>\n",
       "      <td>planet</td>\n",
       "      <td>Star Wars: Aftermath</td>\n",
       "      <td>2015</td>\n",
       "      <td>Planet džungle in dom Norra in Temmin Wexley t...</td>\n",
       "    </tr>\n",
       "    <tr>\n",
       "      <th>...</th>\n",
       "      <td>...</td>\n",
       "      <td>...</td>\n",
       "      <td>...</td>\n",
       "      <td>...</td>\n",
       "      <td>...</td>\n",
       "    </tr>\n",
       "    <tr>\n",
       "      <th>238</th>\n",
       "      <td>Wrea</td>\n",
       "      <td>planet</td>\n",
       "      <td>Star Wars Legends:The New Rebellion</td>\n",
       "      <td>1996</td>\n",
       "      <td>Planet v bližini asteroidnega polja, kjer Saw ...</td>\n",
       "    </tr>\n",
       "    <tr>\n",
       "      <th>239</th>\n",
       "      <td>Yavin</td>\n",
       "      <td>planet</td>\n",
       "      <td>Star Wars</td>\n",
       "      <td>1977</td>\n",
       "      <td>Plinski planet z več lunami, vključno z Yavino...</td>\n",
       "    </tr>\n",
       "    <tr>\n",
       "      <th>240</th>\n",
       "      <td>Yavin 4</td>\n",
       "      <td>luna</td>\n",
       "      <td>Star Wars</td>\n",
       "      <td>1977</td>\n",
       "      <td>Gozdna luna in baza za uporniško zvezo.</td>\n",
       "    </tr>\n",
       "    <tr>\n",
       "      <th>241</th>\n",
       "      <td>Zeffo</td>\n",
       "      <td>planet</td>\n",
       "      <td>Star Wars Jedi: Fallen Order</td>\n",
       "      <td>2019</td>\n",
       "      <td>Planet s številnimi gorami in nevihtnim vremen...</td>\n",
       "    </tr>\n",
       "    <tr>\n",
       "      <th>242</th>\n",
       "      <td>Zygerria</td>\n",
       "      <td>planet</td>\n",
       "      <td>Star Wars: The Clone Wars</td>\n",
       "      <td>2011</td>\n",
       "      <td>Planet na ozemljih zunanjega roba, dom vrste Z...</td>\n",
       "    </tr>\n",
       "  </tbody>\n",
       "</table>\n",
       "<p>242 rows × 5 columns</p>\n",
       "</div>"
      ],
      "text/plain": [
       "            Ime   Vrsta                         Prva upodobitev  \\\n",
       "1        Abafar  planet               Star Wars: The Clone Wars   \n",
       "2        Agamar  planet  Star Wars Legends:The Farlander Papers   \n",
       "3       Ahch-To  planet                       The Force Awakens   \n",
       "4    Ajan Kloss    luna                Star Wars Battlefront II   \n",
       "5         Akiva  planet                    Star Wars: Aftermath   \n",
       "..          ...     ...                                     ...   \n",
       "238        Wrea  planet     Star Wars Legends:The New Rebellion   \n",
       "239       Yavin  planet                               Star Wars   \n",
       "240     Yavin 4    luna                               Star Wars   \n",
       "241       Zeffo  planet            Star Wars Jedi: Fallen Order   \n",
       "242    Zygerria  planet               Star Wars: The Clone Wars   \n",
       "\n",
       "     Leto prve upodobitve                                        Kratek opis  \n",
       "1                    2012  Puščavski planet, ki se nahaja v zunanjem robu...  \n",
       "2                    1993  Pust, skalnat planet v zunanjem robu.Mesto še ...  \n",
       "3                    2015  Velik oceanski planet, na katerem se že več le...  \n",
       "4                    2017  Luna v džungli, ki služi kot nova baza za oper...  \n",
       "5                    2015  Planet džungle in dom Norra in Temmin Wexley t...  \n",
       "..                    ...                                                ...  \n",
       "238                  1996  Planet v bližini asteroidnega polja, kjer Saw ...  \n",
       "239                  1977  Plinski planet z več lunami, vključno z Yavino...  \n",
       "240                  1977            Gozdna luna in baza za uporniško zvezo.  \n",
       "241                  2019  Planet s številnimi gorami in nevihtnim vremen...  \n",
       "242                  2011  Planet na ozemljih zunanjega roba, dom vrste Z...  \n",
       "\n",
       "[242 rows x 5 columns]"
      ]
     },
     "execution_count": 12,
     "metadata": {},
     "output_type": "execute_result"
    }
   ],
   "source": [
    "planeti1"
   ]
  },
  {
   "attachments": {},
   "cell_type": "markdown",
   "metadata": {},
   "source": [
    "### 1.2 Statistika\n"
   ]
  },
  {
   "attachments": {},
   "cell_type": "markdown",
   "metadata": {},
   "source": [
    "Prikazani so statistični podatki o prvem letu upodobitve (to je edini podatek za katerega lahko to sploh definiramo):"
   ]
  },
  {
   "cell_type": "code",
   "execution_count": 6,
   "metadata": {},
   "outputs": [
    {
     "data": {
      "text/html": [
       "<div>\n",
       "<style scoped>\n",
       "    .dataframe tbody tr th:only-of-type {\n",
       "        vertical-align: middle;\n",
       "    }\n",
       "\n",
       "    .dataframe tbody tr th {\n",
       "        vertical-align: top;\n",
       "    }\n",
       "\n",
       "    .dataframe thead th {\n",
       "        text-align: right;\n",
       "    }\n",
       "</style>\n",
       "<table border=\"1\" class=\"dataframe\">\n",
       "  <thead>\n",
       "    <tr style=\"text-align: right;\">\n",
       "      <th></th>\n",
       "      <th>Leto prve upodobitve</th>\n",
       "    </tr>\n",
       "  </thead>\n",
       "  <tbody>\n",
       "    <tr>\n",
       "      <th>count</th>\n",
       "      <td>242.0</td>\n",
       "    </tr>\n",
       "    <tr>\n",
       "      <th>mean</th>\n",
       "      <td>2005.0</td>\n",
       "    </tr>\n",
       "    <tr>\n",
       "      <th>std</th>\n",
       "      <td>14.0</td>\n",
       "    </tr>\n",
       "    <tr>\n",
       "      <th>min</th>\n",
       "      <td>1977.0</td>\n",
       "    </tr>\n",
       "    <tr>\n",
       "      <th>25%</th>\n",
       "      <td>1996.0</td>\n",
       "    </tr>\n",
       "    <tr>\n",
       "      <th>50%</th>\n",
       "      <td>2007.0</td>\n",
       "    </tr>\n",
       "    <tr>\n",
       "      <th>75%</th>\n",
       "      <td>2016.0</td>\n",
       "    </tr>\n",
       "    <tr>\n",
       "      <th>max</th>\n",
       "      <td>2023.0</td>\n",
       "    </tr>\n",
       "  </tbody>\n",
       "</table>\n",
       "</div>"
      ],
      "text/plain": [
       "       Leto prve upodobitve\n",
       "count                 242.0\n",
       "mean                 2005.0\n",
       "std                    14.0\n",
       "min                  1977.0\n",
       "25%                  1996.0\n",
       "50%                  2007.0\n",
       "75%                  2016.0\n",
       "max                  2023.0"
      ]
     },
     "execution_count": 6,
     "metadata": {},
     "output_type": "execute_result"
    }
   ],
   "source": [
    "planeti1.describe().round()"
   ]
  },
  {
   "attachments": {},
   "cell_type": "markdown",
   "metadata": {},
   "source": [
    "## 2. Tabele\n"
   ]
  },
  {
   "attachments": {},
   "cell_type": "markdown",
   "metadata": {},
   "source": [
    "V tem razdelku je s tabeli predstvaljenih nekaj informacij, ki so se mi zdele zanimive:\n"
   ]
  },
  {
   "attachments": {},
   "cell_type": "markdown",
   "metadata": {},
   "source": [
    "### 2.1 Pogostost začetnic"
   ]
  },
  {
   "attachments": {},
   "cell_type": "markdown",
   "metadata": {},
   "source": [
    "Katera črka prevlada v poimenovanju planetov in lun?"
   ]
  },
  {
   "cell_type": "code",
   "execution_count": 65,
   "metadata": {},
   "outputs": [],
   "source": [
    "zacetnice_ponovitve = {}\n",
    "for i in \"ABCDEFGHIJKLMNOPRSTUVWXYZ\": # Zadošča angleška abeceda (imen planetov ne slovenimo)\n",
    "    zacetnice_ponovitve[i] = 0\n",
    "    for j in planeti1['Ime']:\n",
    "        if i == j[0]:\n",
    "            zacetnice_ponovitve[i] += 1\n",
    "            \n",
    "zacetnice = {'začetnice':list(zacetnice_ponovitve.keys()), 'ponovitve':list(zacetnice_ponovitve.values())}\n",
    "zacetnice_pd = pd.DataFrame.from_dict(zacetnice)\n",
    "zacetnice_pd = zacetnice_pd.set_index(['začetnice'])"
   ]
  },
  {
   "cell_type": "code",
   "execution_count": 66,
   "metadata": {},
   "outputs": [
    {
     "data": {
      "text/html": [
       "<div>\n",
       "<style scoped>\n",
       "    .dataframe tbody tr th:only-of-type {\n",
       "        vertical-align: middle;\n",
       "    }\n",
       "\n",
       "    .dataframe tbody tr th {\n",
       "        vertical-align: top;\n",
       "    }\n",
       "\n",
       "    .dataframe thead th {\n",
       "        text-align: right;\n",
       "    }\n",
       "</style>\n",
       "<table border=\"1\" class=\"dataframe\">\n",
       "  <thead>\n",
       "    <tr style=\"text-align: right;\">\n",
       "      <th></th>\n",
       "      <th>ponovitve</th>\n",
       "    </tr>\n",
       "    <tr>\n",
       "      <th>začetnice</th>\n",
       "      <th></th>\n",
       "    </tr>\n",
       "  </thead>\n",
       "  <tbody>\n",
       "    <tr>\n",
       "      <th>A</th>\n",
       "      <td>26</td>\n",
       "    </tr>\n",
       "    <tr>\n",
       "      <th>B</th>\n",
       "      <td>12</td>\n",
       "    </tr>\n",
       "    <tr>\n",
       "      <th>C</th>\n",
       "      <td>18</td>\n",
       "    </tr>\n",
       "    <tr>\n",
       "      <th>D</th>\n",
       "      <td>12</td>\n",
       "    </tr>\n",
       "    <tr>\n",
       "      <th>E</th>\n",
       "      <td>14</td>\n",
       "    </tr>\n",
       "    <tr>\n",
       "      <th>...</th>\n",
       "      <td>...</td>\n",
       "    </tr>\n",
       "    <tr>\n",
       "      <th>V</th>\n",
       "      <td>4</td>\n",
       "    </tr>\n",
       "    <tr>\n",
       "      <th>W</th>\n",
       "      <td>4</td>\n",
       "    </tr>\n",
       "    <tr>\n",
       "      <th>X</th>\n",
       "      <td>0</td>\n",
       "    </tr>\n",
       "    <tr>\n",
       "      <th>Y</th>\n",
       "      <td>4</td>\n",
       "    </tr>\n",
       "    <tr>\n",
       "      <th>Z</th>\n",
       "      <td>4</td>\n",
       "    </tr>\n",
       "  </tbody>\n",
       "</table>\n",
       "<p>25 rows × 1 columns</p>\n",
       "</div>"
      ],
      "text/plain": [
       "           ponovitve\n",
       "začetnice           \n",
       "A                 26\n",
       "B                 12\n",
       "C                 18\n",
       "D                 12\n",
       "E                 14\n",
       "...              ...\n",
       "V                  4\n",
       "W                  4\n",
       "X                  0\n",
       "Y                  4\n",
       "Z                  4\n",
       "\n",
       "[25 rows x 1 columns]"
      ]
     },
     "execution_count": 66,
     "metadata": {},
     "output_type": "execute_result"
    }
   ],
   "source": [
    "# Izpis tabele\n",
    "zacetnice_pd"
   ]
  },
  {
   "attachments": {},
   "cell_type": "markdown",
   "metadata": {},
   "source": [
    "Med 242 planeti in lunami z naskokom prevlada začetnica A, medtem ko se črka x sploh ne pojavi."
   ]
  },
  {
   "attachments": {},
   "cell_type": "markdown",
   "metadata": {},
   "source": [
    "### 2.2 V katerih serijah/filmih je največ prvih pojavitev planetov in lun"
   ]
  },
  {
   "attachments": {},
   "cell_type": "markdown",
   "metadata": {},
   "source": [
    "Zanimalo me je v katerih serijah/filmih se pojavijo prvič planeti in lune in kje je le teh največ:"
   ]
  },
  {
   "cell_type": "code",
   "execution_count": 63,
   "metadata": {},
   "outputs": [],
   "source": [
    "def najpogostejsa_upodobitev(podatki):\n",
    "    upodobitve = {}  # Slovar za shranjevanje števila upodobitev vsakega filma/serije\n",
    "\n",
    "    for index, planet in podatki.iterrows():\n",
    "        upodobitev = planet['Prva upodobitev']\n",
    "\n",
    "        if upodobitev in upodobitve:\n",
    "            upodobitve[upodobitev] += 1\n",
    "        else:\n",
    "            upodobitve[upodobitev] = 1\n",
    "    \n",
    "    return upodobitve\n",
    "\n",
    "# število upodobitev v tabeli planeti1\n",
    "upodobitve_planet1 = najpogostejsa_upodobitev(planeti1)\n",
    "\n",
    "# Podatki za tabelo\n",
    "podatki_tabela = {\n",
    "    'Upodobitev': list(upodobitve_planet1.keys()),\n",
    "    'Število planetov': list(upodobitve_planet1.values())\n",
    "}\n",
    "\n",
    "# Ustvarimo tabelo iz podatkov\n",
    "tabela = pd.DataFrame(podatki_tabela)\n"
   ]
  },
  {
   "cell_type": "code",
   "execution_count": 64,
   "metadata": {},
   "outputs": [
    {
     "data": {
      "text/html": [
       "<div>\n",
       "<style scoped>\n",
       "    .dataframe tbody tr th:only-of-type {\n",
       "        vertical-align: middle;\n",
       "    }\n",
       "\n",
       "    .dataframe tbody tr th {\n",
       "        vertical-align: top;\n",
       "    }\n",
       "\n",
       "    .dataframe thead th {\n",
       "        text-align: right;\n",
       "    }\n",
       "</style>\n",
       "<table border=\"1\" class=\"dataframe\">\n",
       "  <thead>\n",
       "    <tr style=\"text-align: right;\">\n",
       "      <th></th>\n",
       "      <th>Upodobitev</th>\n",
       "      <th>Število planetov</th>\n",
       "    </tr>\n",
       "  </thead>\n",
       "  <tbody>\n",
       "    <tr>\n",
       "      <th>0</th>\n",
       "      <td>Star Wars: The Clone Wars</td>\n",
       "      <td>28</td>\n",
       "    </tr>\n",
       "    <tr>\n",
       "      <th>1</th>\n",
       "      <td>Star Wars Legends:The Farlander Papers</td>\n",
       "      <td>2</td>\n",
       "    </tr>\n",
       "    <tr>\n",
       "      <th>2</th>\n",
       "      <td>The Force Awakens</td>\n",
       "      <td>12</td>\n",
       "    </tr>\n",
       "    <tr>\n",
       "      <th>3</th>\n",
       "      <td>Star Wars Battlefront II</td>\n",
       "      <td>6</td>\n",
       "    </tr>\n",
       "    <tr>\n",
       "      <th>4</th>\n",
       "      <td>Star Wars: Aftermath</td>\n",
       "      <td>2</td>\n",
       "    </tr>\n",
       "    <tr>\n",
       "      <th>...</th>\n",
       "      <td>...</td>\n",
       "      <td>...</td>\n",
       "    </tr>\n",
       "    <tr>\n",
       "      <th>57</th>\n",
       "      <td>Star Wars Legends:Darth Bane: Rule of Two</td>\n",
       "      <td>2</td>\n",
       "    </tr>\n",
       "    <tr>\n",
       "      <th>58</th>\n",
       "      <td>Star Wars Squadrons</td>\n",
       "      <td>2</td>\n",
       "    </tr>\n",
       "    <tr>\n",
       "      <th>59</th>\n",
       "      <td>The Clone Wars</td>\n",
       "      <td>2</td>\n",
       "    </tr>\n",
       "    <tr>\n",
       "      <th>60</th>\n",
       "      <td>Star Wars Legends:The Mandalorian Armor</td>\n",
       "      <td>2</td>\n",
       "    </tr>\n",
       "    <tr>\n",
       "      <th>61</th>\n",
       "      <td>Star Wars Legends:The New Rebellion</td>\n",
       "      <td>2</td>\n",
       "    </tr>\n",
       "  </tbody>\n",
       "</table>\n",
       "<p>62 rows × 2 columns</p>\n",
       "</div>"
      ],
      "text/plain": [
       "                                   Upodobitev  Število planetov\n",
       "0                   Star Wars: The Clone Wars                28\n",
       "1      Star Wars Legends:The Farlander Papers                 2\n",
       "2                           The Force Awakens                12\n",
       "3                    Star Wars Battlefront II                 6\n",
       "4                        Star Wars: Aftermath                 2\n",
       "..                                        ...               ...\n",
       "57  Star Wars Legends:Darth Bane: Rule of Two                 2\n",
       "58                        Star Wars Squadrons                 2\n",
       "59                             The Clone Wars                 2\n",
       "60    Star Wars Legends:The Mandalorian Armor                 2\n",
       "61        Star Wars Legends:The New Rebellion                 2\n",
       "\n",
       "[62 rows x 2 columns]"
      ]
     },
     "execution_count": 64,
     "metadata": {},
     "output_type": "execute_result"
    }
   ],
   "source": [
    "# Izpis tabele\n",
    "tabela"
   ]
  },
  {
   "attachments": {},
   "cell_type": "markdown",
   "metadata": {},
   "source": [
    "Rezultati so dokaj pričakovani (saj kar se tiče prvega mesta). The clone wars je animirana serija, ki obsega 7 sezon in več kot 54 ur watch time-a."
   ]
  },
  {
   "attachments": {},
   "cell_type": "markdown",
   "metadata": {},
   "source": [
    "### 2.3 Strukture planetov"
   ]
  },
  {
   "attachments": {},
   "cell_type": "markdown",
   "metadata": {},
   "source": [
    "V naslednji analizi ločimo planete glede na njihovo strukturo, podnebje, rastje ipd."
   ]
  },
  {
   "cell_type": "code",
   "execution_count": 59,
   "metadata": {},
   "outputs": [],
   "source": [
    "def struktura(planeti1):\n",
    "\n",
    "    # Nekaj ključnih besed za vsako kategorijo\n",
    "    kategorije = {\n",
    "        'puščavski': ['puščav', 'pesek', 'vročina'],\n",
    "        'skalnat': ['skale', 'kamnine', 'gorat'],\n",
    "        'oceanski': ['ocean', 'morje', 'vodni'],\n",
    "        'gozdni': ['gozd', 'rastje', 'drevesa', 'gozdovi'],\n",
    "        'plinski': ['plin', 'atmosfera', 'plinski oblaki'],\n",
    "        'močvirni': ['močvirje', 'blato', 'vodni habitati'],\n",
    "        'suh': ['suh', 'pomanjkanje vode', 'peščena tla'],\n",
    "        'travnat': ['travnik', 'travnata površina', 'zeleno'],\n",
    "        'ledeni': ['led', 'mrzlo', 'ledena površina'],\n",
    "        'industrijski': ['industrija', 'mesta', 'urban'],\n",
    "        'vulkanski': ['vulkan', 'lava', 'aktivni vulkani'],\n",
    "        'džungla': ['rastje', 'džungli']\n",
    "    }\n",
    "\n",
    "    # Stolpec 'Kategorije'\n",
    "    planeti1['Kategorije'] = ''\n",
    "\n",
    "    # Kategorizacija planetov glede na ključne besede\n",
    "    for index, row in planeti1.iterrows():\n",
    "        opis = row['Kratek opis']\n",
    "\n",
    "    # Iskanje kategorij glede na ključne besede v opisu\n",
    "    kategorizirane_kategorije = []\n",
    "    for kategorija, kljucne_besede in kategorije.items():\n",
    "        for beseda in kljucne_besede:\n",
    "            if beseda in opis:\n",
    "                kategorizirane_kategorije.append(kategorija)\n",
    "                break\n",
    "\n",
    "    planeti1.at[index, 'Kategorije'] = ', '.join(kategorizirane_kategorije)\n",
    "\n",
    "    # Izračuna št. planetov v vsaki kategoriji\n",
    "    stevilo_planetov_po_kategorijah = planeti1['Kategorije'].str.split(', ').explode().value_counts()\n",
    "\n",
    "    # Podatki v tabelo\n",
    "    tabela_stevila_planetov = pd.DataFrame({'Struktura': stevilo_planetov_po_kategorijah.index, 'Stevilo planetov': stevilo_planetov_po_kategorijah.values})\n",
    "\n",
    "    return tabela_stevila_planetov"
   ]
  },
  {
   "cell_type": "code",
   "execution_count": 62,
   "metadata": {},
   "outputs": [
    {
     "data": {
      "text/html": [
       "<div>\n",
       "<style scoped>\n",
       "    .dataframe tbody tr th:only-of-type {\n",
       "        vertical-align: middle;\n",
       "    }\n",
       "\n",
       "    .dataframe tbody tr th {\n",
       "        vertical-align: top;\n",
       "    }\n",
       "\n",
       "    .dataframe thead th {\n",
       "        text-align: right;\n",
       "    }\n",
       "</style>\n",
       "<table border=\"1\" class=\"dataframe\">\n",
       "  <thead>\n",
       "    <tr style=\"text-align: right;\">\n",
       "      <th></th>\n",
       "      <th>Struktura</th>\n",
       "      <th>Stevilo planetov</th>\n",
       "    </tr>\n",
       "  </thead>\n",
       "  <tbody>\n",
       "    <tr>\n",
       "      <th>0</th>\n",
       "      <td></td>\n",
       "      <td>178</td>\n",
       "    </tr>\n",
       "    <tr>\n",
       "      <th>1</th>\n",
       "      <td>puščavski</td>\n",
       "      <td>12</td>\n",
       "    </tr>\n",
       "    <tr>\n",
       "      <th>2</th>\n",
       "      <td>oceanski</td>\n",
       "      <td>10</td>\n",
       "    </tr>\n",
       "    <tr>\n",
       "      <th>3</th>\n",
       "      <td>ledeni</td>\n",
       "      <td>10</td>\n",
       "    </tr>\n",
       "    <tr>\n",
       "      <th>4</th>\n",
       "      <td>plinski</td>\n",
       "      <td>8</td>\n",
       "    </tr>\n",
       "    <tr>\n",
       "      <th>5</th>\n",
       "      <td>industrijski</td>\n",
       "      <td>8</td>\n",
       "    </tr>\n",
       "    <tr>\n",
       "      <th>6</th>\n",
       "      <td>skalnat</td>\n",
       "      <td>8</td>\n",
       "    </tr>\n",
       "    <tr>\n",
       "      <th>7</th>\n",
       "      <td>džungla</td>\n",
       "      <td>6</td>\n",
       "    </tr>\n",
       "    <tr>\n",
       "      <th>8</th>\n",
       "      <td>gozdni</td>\n",
       "      <td>6</td>\n",
       "    </tr>\n",
       "    <tr>\n",
       "      <th>9</th>\n",
       "      <td>vulkanski</td>\n",
       "      <td>2</td>\n",
       "    </tr>\n",
       "  </tbody>\n",
       "</table>\n",
       "</div>"
      ],
      "text/plain": [
       "      Struktura  Stevilo planetov\n",
       "0                             178\n",
       "1     puščavski                12\n",
       "2      oceanski                10\n",
       "3        ledeni                10\n",
       "4       plinski                 8\n",
       "5  industrijski                 8\n",
       "6       skalnat                 8\n",
       "7       džungla                 6\n",
       "8        gozdni                 6\n",
       "9     vulkanski                 2"
      ]
     },
     "execution_count": 62,
     "metadata": {},
     "output_type": "execute_result"
    }
   ],
   "source": [
    "# Izpis tabele\n",
    "tabela_stevila_planetov"
   ]
  },
  {
   "attachments": {},
   "cell_type": "markdown",
   "metadata": {},
   "source": [
    "Pomankljivost programa: Med navedenimi ključnimi besedami zazna le 64 planetov. Razlogov zato je več, prevladujeta pa gotovo skromnost opisov in sklanjanje besed."
   ]
  },
  {
   "attachments": {},
   "cell_type": "markdown",
   "metadata": {},
   "source": [
    "### 2.4 Koliko je planetov in koliko lun?"
   ]
  },
  {
   "cell_type": "code",
   "execution_count": 67,
   "metadata": {},
   "outputs": [],
   "source": [
    "def stevilo_planetov_lun(planeti1):\n",
    "\n",
    "    # Št. pojavitev\n",
    "    stevilo_pojavitev = planeti1['Vrsta'].value_counts()\n",
    "\n",
    "    # Tabela\n",
    "    tabela_stevila_pojavitev = pd.DataFrame({'Vrsta': stevilo_pojavitev.index, 'Število pojavitev': stevilo_pojavitev.values})\n",
    "\n",
    "    return tabela_stevila_pojavitev\n",
    "\n",
    "tabela_stevila = stevilo_planetov_lun(planeti1)"
   ]
  },
  {
   "cell_type": "code",
   "execution_count": 68,
   "metadata": {},
   "outputs": [
    {
     "data": {
      "text/html": [
       "<div>\n",
       "<style scoped>\n",
       "    .dataframe tbody tr th:only-of-type {\n",
       "        vertical-align: middle;\n",
       "    }\n",
       "\n",
       "    .dataframe tbody tr th {\n",
       "        vertical-align: top;\n",
       "    }\n",
       "\n",
       "    .dataframe thead th {\n",
       "        text-align: right;\n",
       "    }\n",
       "</style>\n",
       "<table border=\"1\" class=\"dataframe\">\n",
       "  <thead>\n",
       "    <tr style=\"text-align: right;\">\n",
       "      <th></th>\n",
       "      <th>Vrsta</th>\n",
       "      <th>Število pojavitev</th>\n",
       "    </tr>\n",
       "  </thead>\n",
       "  <tbody>\n",
       "    <tr>\n",
       "      <th>0</th>\n",
       "      <td>planet</td>\n",
       "      <td>198</td>\n",
       "    </tr>\n",
       "    <tr>\n",
       "      <th>1</th>\n",
       "      <td>luna</td>\n",
       "      <td>44</td>\n",
       "    </tr>\n",
       "  </tbody>\n",
       "</table>\n",
       "</div>"
      ],
      "text/plain": [
       "    Vrsta  Število pojavitev\n",
       "0  planet                198\n",
       "1    luna                 44"
      ]
     },
     "execution_count": 68,
     "metadata": {},
     "output_type": "execute_result"
    }
   ],
   "source": [
    "# Izpis tabele\n",
    "tabela_stevila\n"
   ]
  },
  {
   "attachments": {},
   "cell_type": "markdown",
   "metadata": {},
   "source": [
    "Opomba: Ponovno skromnost opisov ne da povsem točne slike (po vsej verjetnosti). V ekstrakciji smo planete in lune ločili na podlagi ključne besede 'planet' v opisu, a ker so le ti pomakljivi lahko pride do odstopanj."
   ]
  }
 ],
 "metadata": {
  "kernelspec": {
   "display_name": "Python 3",
   "language": "python",
   "name": "python3"
  },
  "language_info": {
   "codemirror_mode": {
    "name": "ipython",
    "version": 3
   },
   "file_extension": ".py",
   "mimetype": "text/x-python",
   "name": "python",
   "nbconvert_exporter": "python",
   "pygments_lexer": "ipython3",
   "version": "3.11.2"
  },
  "orig_nbformat": 4
 },
 "nbformat": 4,
 "nbformat_minor": 2
}
